{
 "cells": [
  {
   "cell_type": "code",
   "execution_count": 1,
   "metadata": {},
   "outputs": [],
   "source": [
    "from inputs import read_phenotypes\n",
    "\n",
    "TCRs = read_phenotypes(\"config/real_sample_TCRs.txt\")\n",
    "peptides = read_phenotypes(\"config/real_sample_peptides.txt\")"
   ]
  },
  {
   "cell_type": "code",
   "execution_count": 2,
   "metadata": {},
   "outputs": [],
   "source": [
    "from phenotype import SequencePhenotypeStructure, Phenotype, SequencePhenotypeInteractionData\n",
    "\n",
    "TCR_struct = SequencePhenotypeStructure(TCRs)\n",
    "peptide_struct = SequencePhenotypeStructure(peptides)\n",
    "\n",
    "def get_distances(struct : SequencePhenotypeStructure):\n",
    "    dists = []\n",
    "    d = SequencePhenotypeInteractionData(0, 0)\n",
    "    for id in struct.ids:\n",
    "        phen = Phenotype(struct, id)\n",
    "        for id_ in struct.ids:\n",
    "            phen_ = Phenotype(struct, id_)\n",
    "            cur_dist = SequencePhenotypeStructure.get_sequence_distance(phen, phen_, d)\n",
    "            dists.append(cur_dist)\n",
    "    return dists\n",
    "\n",
    "def get_distances_from_sequences(sequences):\n",
    "    struct = SequencePhenotypeStructure(sequences)\n",
    "    return get_distances(struct)\n"
   ]
  },
  {
   "cell_type": "code",
   "execution_count": 3,
   "metadata": {},
   "outputs": [
    {
     "data": {
      "text/plain": [
       "(array([ 21.,   2.,   6.,   8.,  12.,  98.,  92., 114.,  46.,  42.]),\n",
       " array([ 0. ,  1.4,  2.8,  4.2,  5.6,  7. ,  8.4,  9.8, 11.2, 12.6, 14. ]),\n",
       " <BarContainer object of 10 artists>)"
      ]
     },
     "execution_count": 3,
     "metadata": {},
     "output_type": "execute_result"
    },
    {
     "data": {
      "image/png": "[encoded data removed]",
      "text/plain": [
       "<Figure size 432x288 with 1 Axes>"
      ]
     },
     "metadata": {
      "needs_background": "light"
     },
     "output_type": "display_data"
    }
   ],
   "source": [
    "import matplotlib.pyplot as plt\n",
    "TCR_dists = get_distances(TCR_struct)\n",
    "plt.hist(TCR_dists)"
   ]
  },
  {
   "cell_type": "code",
   "execution_count": 4,
   "metadata": {},
   "outputs": [
    {
     "data": {
      "text/plain": [
       "(array([12.,  0.,  0.,  0.,  0.,  0.,  6., 34., 50., 42.]),\n",
       " array([0. , 0.9, 1.8, 2.7, 3.6, 4.5, 5.4, 6.3, 7.2, 8.1, 9. ]),\n",
       " <BarContainer object of 10 artists>)"
      ]
     },
     "execution_count": 4,
     "metadata": {},
     "output_type": "execute_result"
    },
    {
     "data": {
      "image/png": "[encoded data removed]",
      "text/plain": [
       "<Figure size 432x288 with 1 Axes>"
      ]
     },
     "metadata": {
      "needs_background": "light"
     },
     "output_type": "display_data"
    }
   ],
   "source": [
    "peptide_dists = get_distances(peptide_struct)\n",
    "plt.hist(peptide_dists)"
   ]
  },
  {
   "cell_type": "code",
   "execution_count": 5,
   "metadata": {},
   "outputs": [],
   "source": [
    "import numpy as np\n",
    "\n",
    "peptide_avg = sum(peptide_dists)/len(peptide_dists)\n",
    "norm_peptide_dists = np.array(peptide_dists) / peptide_avg"
   ]
  },
  {
   "cell_type": "code",
   "execution_count": 6,
   "metadata": {},
   "outputs": [],
   "source": [
    "TCR_avg = sum(TCR_dists)/len(TCR_dists)\n",
    "norm_TCR_dists = np.array(TCR_dists)/(TCR_avg)"
   ]
  },
  {
   "cell_type": "markdown",
   "metadata": {},
   "source": [
    "Normalise i.e. place the mean value at 1."
   ]
  },
  {
   "cell_type": "code",
   "execution_count": 7,
   "metadata": {},
   "outputs": [
    {
     "data": {
      "text/plain": [
       "(array([12.,  0.,  0.,  0.,  0.,  0.,  6., 34., 50., 42.]),\n",
       " array([0.        , 0.12319392, 0.24638783, 0.36958175, 0.49277567,\n",
       "        0.61596958, 0.7391635 , 0.86235741, 0.98555133, 1.10874525,\n",
       "        1.23193916]),\n",
       " <BarContainer object of 10 artists>)"
      ]
     },
     "execution_count": 7,
     "metadata": {},
     "output_type": "execute_result"
    },
    {
     "data": {
      "image/png": "[encoded data removed]",
      "text/plain": [
       "<Figure size 432x288 with 1 Axes>"
      ]
     },
     "metadata": {
      "needs_background": "light"
     },
     "output_type": "display_data"
    }
   ],
   "source": [
    "plt.hist(norm_peptide_dists)"
   ]
  },
  {
   "cell_type": "code",
   "execution_count": 8,
   "metadata": {},
   "outputs": [
    {
     "data": {
      "text/plain": [
       "(array([ 21.,   2.,   6.,   8.,  12.,  98.,  92., 114.,  46.,  42.]),\n",
       " array([0.      , 0.153125, 0.30625 , 0.459375, 0.6125  , 0.765625,\n",
       "        0.91875 , 1.071875, 1.225   , 1.378125, 1.53125 ]),\n",
       " <BarContainer object of 10 artists>)"
      ]
     },
     "execution_count": 8,
     "metadata": {},
     "output_type": "execute_result"
    },
    {
     "data": {
      "image/png": "[encoded data removed]",
      "text/plain": [
       "<Figure size 432x288 with 1 Axes>"
      ]
     },
     "metadata": {
      "needs_background": "light"
     },
     "output_type": "display_data"
    }
   ],
   "source": [
    "plt.hist(norm_TCR_dists)"
   ]
  },
  {
   "cell_type": "code",
   "execution_count": 9,
   "metadata": {},
   "outputs": [],
   "source": [
    "more_TCRs = read_phenotypes(\"config/TCRs_from_TULIP.txt\")\n",
    "more_peptides = read_phenotypes(\"config/peptides_from_TULIP.txt\")"
   ]
  },
  {
   "cell_type": "code",
   "execution_count": 10,
   "metadata": {},
   "outputs": [],
   "source": [
    "more_TCRs_dists = get_distances_from_sequences(more_TCRs)"
   ]
  },
  {
   "cell_type": "code",
   "execution_count": 11,
   "metadata": {},
   "outputs": [
    {
     "data": {
      "text/plain": [
       "(array([  1182.,   5382.,  11874.,  78014.,  83748., 209358., 119610.,\n",
       "         19876.,   9084.,    628.]),\n",
       " array([ 0. ,  1.6,  3.2,  4.8,  6.4,  8. ,  9.6, 11.2, 12.8, 14.4, 16. ]),\n",
       " <BarContainer object of 10 artists>)"
      ]
     },
     "execution_count": 11,
     "metadata": {},
     "output_type": "execute_result"
    },
    {
     "data": {
      "image/png": "[encoded data removed]",
      "text/plain": [
       "<Figure size 432x288 with 1 Axes>"
      ]
     },
     "metadata": {
      "needs_background": "light"
     },
     "output_type": "display_data"
    }
   ],
   "source": [
    "plt.hist(more_TCRs_dists)"
   ]
  },
  {
   "cell_type": "code",
   "execution_count": 12,
   "metadata": {},
   "outputs": [
    {
     "data": {
      "text/plain": [
       "(array([1.480e+02, 4.000e+00, 1.600e+01, 4.000e+00, 3.000e+01, 2.100e+02,\n",
       "        1.336e+03, 5.176e+03, 8.852e+03, 6.128e+03]),\n",
       " array([ 0.,  1.,  2.,  3.,  4.,  5.,  6.,  7.,  8.,  9., 10.]),\n",
       " <BarContainer object of 10 artists>)"
      ]
     },
     "execution_count": 12,
     "metadata": {},
     "output_type": "execute_result"
    },
    {
     "data": {
      "image/png": "[encoded data removed]",
      "text/plain": [
       "<Figure size 432x288 with 1 Axes>"
      ]
     },
     "metadata": {
      "needs_background": "light"
     },
     "output_type": "display_data"
    }
   ],
   "source": [
    "plt.hist(get_distances_from_sequences(more_peptides))"
   ]
  },
  {
   "cell_type": "markdown",
   "metadata": {},
   "source": [
    "Now let's look at the scaling for different parameters"
   ]
  },
  {
   "cell_type": "code",
   "execution_count": 15,
   "metadata": {},
   "outputs": [],
   "source": [
    "def get_scalings(struct : SequencePhenotypeStructure, rho, rho_tilde):\n",
    "    dists = []\n",
    "    d = SequencePhenotypeInteractionData(0, rho_tilde)\n",
    "    for id in struct.ids:\n",
    "        phen = Phenotype(struct, id)\n",
    "        for id_ in struct.ids:\n",
    "            phen_ = Phenotype(struct, id_)\n",
    "            cur_dist = SequencePhenotypeStructure.get_sequence_scaling(phen, phen_,d, rho)\n",
    "            dists.append(cur_dist)\n",
    "    return dists\n"
   ]
  },
  {
   "cell_type": "code",
   "execution_count": 18,
   "metadata": {},
   "outputs": [
    {
     "data": {
      "text/plain": [
       "(array([140., 154.,  98.,  12.,  14.,   0.,   0.,   2.,   0.,  21.]),\n",
       " array([0.03950617, 0.04555556, 0.05160494, 0.05765432, 0.0637037 ,\n",
       "        0.06975309, 0.07580247, 0.08185185, 0.08790123, 0.09395062,\n",
       "        0.1       ]),\n",
       " <BarContainer object of 10 artists>)"
      ]
     },
     "execution_count": 18,
     "metadata": {},
     "output_type": "execute_result"
    },
    {
     "data": {
      "image/png": "[encoded data removed]",
      "text/plain": [
       "<Figure size 432x288 with 1 Axes>"
      ]
     },
     "metadata": {
      "needs_background": "light"
     },
     "output_type": "display_data"
    }
   ],
   "source": [
    "TCR_scalings = get_scalings(TCR_struct, rho=1, rho_tilde=0.1)\n",
    "plt.hist(TCR_scalings)"
   ]
  },
  {
   "cell_type": "code",
   "execution_count": 19,
   "metadata": {},
   "outputs": [
    {
     "data": {
      "text/plain": [
       "(array([92., 40.,  0.,  0.,  0.,  0.,  0.,  0.,  0., 12.]),\n",
       " array([0.04480409, 0.05032368, 0.05584327, 0.06136286, 0.06688245,\n",
       "        0.07240204, 0.07792164, 0.08344123, 0.08896082, 0.09448041,\n",
       "        0.1       ]),\n",
       " <BarContainer object of 10 artists>)"
      ]
     },
     "execution_count": 19,
     "metadata": {},
     "output_type": "execute_result"
    },
    {
     "data": {
      "image/png": "[encoded data removed]",
      "text/plain": [
       "<Figure size 432x288 with 1 Axes>"
      ]
     },
     "metadata": {
      "needs_background": "light"
     },
     "output_type": "display_data"
    }
   ],
   "source": [
    "peptide_scalings = get_scalings(peptide_struct, rho=1, rho_tilde=0.1)\n",
    "plt.hist(peptide_scalings)"
   ]
  },
  {
   "cell_type": "markdown",
   "metadata": {},
   "source": [
    "We want to be happy with essentially (because this is closest to what we've done before): $\\rho = 1$, $\\tilde{\\rho} = 0.1$"
   ]
  },
  {
   "cell_type": "code",
   "execution_count": 20,
   "metadata": {},
   "outputs": [],
   "source": [
    "more_TCR_struct = SequencePhenotypeStructure(more_TCRs)\n",
    "more_peptide_struct = SequencePhenotypeStructure(more_peptides)"
   ]
  },
  {
   "cell_type": "code",
   "execution_count": 21,
   "metadata": {},
   "outputs": [
    {
     "data": {
      "text/plain": [
       "(array([  9712., 139486., 209358., 135488.,  26274.,  15880.,      0.,\n",
       "          1376.,    448.,    734.]),\n",
       " array([0.0341721 , 0.04075489, 0.04733768, 0.05392047, 0.06050326,\n",
       "        0.06708605, 0.07366884, 0.08025163, 0.08683442, 0.09341721,\n",
       "        0.1       ]),\n",
       " <BarContainer object of 10 artists>)"
      ]
     },
     "execution_count": 21,
     "metadata": {},
     "output_type": "execute_result"
    },
    {
     "data": {
      "image/png": "[encoded data removed]",
      "text/plain": [
       "<Figure size 432x288 with 1 Axes>"
      ]
     },
     "metadata": {
      "needs_background": "light"
     },
     "output_type": "display_data"
    }
   ],
   "source": [
    "more_TCR_scalings = get_scalings(more_TCR_struct, rho=1, rho_tilde=0.1)\n",
    "plt.hist(more_TCR_scalings)"
   ]
  },
  {
   "cell_type": "code",
   "execution_count": 22,
   "metadata": {},
   "outputs": [
    {
     "data": {
      "text/plain": [
       "(array([1.498e+04, 5.176e+03, 1.336e+03, 2.400e+02, 0.000e+00, 4.000e+00,\n",
       "        1.600e+01, 4.000e+00, 0.000e+00, 1.480e+02]),\n",
       " array([0.04394685, 0.04955217, 0.05515748, 0.0607628 , 0.06636811,\n",
       "        0.07197343, 0.07757874, 0.08318406, 0.08878937, 0.09439469,\n",
       "        0.1       ]),\n",
       " <BarContainer object of 10 artists>)"
      ]
     },
     "execution_count": 22,
     "metadata": {},
     "output_type": "execute_result"
    },
    {
     "data": {
      "image/png": "[encoded data removed]",
      "text/plain": [
       "<Figure size 432x288 with 1 Axes>"
      ]
     },
     "metadata": {
      "needs_background": "light"
     },
     "output_type": "display_data"
    }
   ],
   "source": [
    "more_peptide_scalings = get_scalings(more_peptide_struct, rho=1, rho_tilde=0.1)\n",
    "plt.hist(more_peptide_scalings)"
   ]
  }
 ],
 "metadata": {
  "kernelspec": {
   "display_name": "Python 3",
   "language": "python",
   "name": "python3"
  },
  "language_info": {
   "codemirror_mode": {
    "name": "ipython",
    "version": 3
   },
   "file_extension": ".py",
   "mimetype": "text/x-python",
   "name": "python",
   "nbconvert_exporter": "python",
   "pygments_lexer": "ipython3",
   "version": "3.10.2"
  }
 },
 "nbformat": 4,
 "nbformat_minor": 2
}

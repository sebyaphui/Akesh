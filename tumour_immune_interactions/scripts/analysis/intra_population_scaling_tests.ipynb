{
 "cells": [
  {
   "cell_type": "code",
   "execution_count": 3,
   "metadata": {},
   "outputs": [],
   "source": [
    "from inputs import read_phenotypes\n",
    "\n",
    "TCRs = read_phenotypes(\"config/real_sample_TCRs.txt\")\n",
    "peptides = read_phenotypes(\"config/real_sample_peptides.txt\")\n"
   ]
  },
  {
   "cell_type": "code",
   "execution_count": 7,
   "metadata": {},
   "outputs": [
    {
     "data": {
      "text/plain": [
       "['CASSLHWGLSEKLFF',\n",
       " 'CASGTGENTEAFF',\n",
       " 'CASSLGTYGYTF',\n",
       " 'CATSDSRQGDASGELFF',\n",
       " 'CASFGSNQPQHF',\n",
       " 'CASSSRQAGTNEKLFF',\n",
       " 'CSAREPQAGRYGYTF',\n",
       " 'CASRDSNQPQHF',\n",
       " 'CASSLEANTEAFF',\n",
       " 'CASSFSLLGGELFF',\n",
       " 'CSVEDLTSQGPIKNTEAFF',\n",
       " 'CASRWSNEKLFF',\n",
       " 'CASSQQYSNQPQHF',\n",
       " 'CASRPRASGGPYEQYF',\n",
       " 'CATSSTPTSGGNEQFF',\n",
       " 'CASSKTGTFSGYGYTF',\n",
       " 'CASRFPGTGGAGDPYEQYF',\n",
       " 'CASSMTGGGYNEQFF',\n",
       " 'CATSGPNALAGKQFF',\n",
       " 'CASSLAKLAGGRNTEAFF',\n",
       " 'CASSHSSGSSYNEQFF']"
      ]
     },
     "execution_count": 7,
     "metadata": {},
     "output_type": "execute_result"
    }
   ],
   "source": [
    "TCRs"
   ]
  },
  {
   "cell_type": "code",
   "execution_count": 21,
   "metadata": {},
   "outputs": [],
   "source": [
    "from phenotype import SequencePhenotypeStructure, Phenotype, SequencePhenotypeInteractionData\n",
    "\n",
    "TCR_struct = SequencePhenotypeStructure(TCRs)\n",
    "peptide_struct = SequencePhenotypeStructure(peptides)\n",
    "\n",
    "def get_distances(struct : SequencePhenotypeStructure):\n",
    "    dists = []\n",
    "    d = SequencePhenotypeInteractionData(0, 0)\n",
    "    for id in struct.ids:\n",
    "        phen = Phenotype(struct, id)\n",
    "        for id_ in struct.ids:\n",
    "            phen_ = Phenotype(struct, id_)\n",
    "            cur_dist = SequencePhenotypeStructure.get_sequence_distance(phen, phen_, 0, d)\n",
    "            dists.append(cur_dist)\n",
    "    return dists\n",
    "\n",
    "def get_distances_from_sequences(sequences):\n",
    "    struct = SequencePhenotypeStructure(sequences)\n",
    "    return get_distances(struct)\n"
   ]
  },
  {
   "cell_type": "code",
   "execution_count": 19,
   "metadata": {},
   "outputs": [
    {
     "data": {
      "text/plain": [
       "(array([ 21.,   2.,   6.,   8.,  12.,  98.,  92., 114.,  46.,  42.]),\n",
       " array([ 0. ,  1.4,  2.8,  4.2,  5.6,  7. ,  8.4,  9.8, 11.2, 12.6, 14. ]),\n",
       " <BarContainer object of 10 artists>)"
      ]
     },
     "execution_count": 19,
     "metadata": {},
     "output_type": "execute_result"
    },
    {
     "data": {
      "image/png": "[encoded data removed]",
      "text/plain": [
       "<Figure size 432x288 with 1 Axes>"
      ]
     },
     "metadata": {
      "needs_background": "light"
     },
     "output_type": "display_data"
    }
   ],
   "source": [
    "import matplotlib.pyplot as plt\n",
    "TCR_dists = get_distances(TCR_struct)\n",
    "plt.hist(TCR_dists)"
   ]
  },
  {
   "cell_type": "code",
   "execution_count": 20,
   "metadata": {},
   "outputs": [
    {
     "data": {
      "text/plain": [
       "(array([12.,  0.,  0.,  0.,  0.,  0.,  6., 34., 50., 42.]),\n",
       " array([0. , 0.9, 1.8, 2.7, 3.6, 4.5, 5.4, 6.3, 7.2, 8.1, 9. ]),\n",
       " <BarContainer object of 10 artists>)"
      ]
     },
     "execution_count": 20,
     "metadata": {},
     "output_type": "execute_result"
    },
    {
     "data": {
      "image/png": "[encoded data removed]",
      "text/plain": [
       "<Figure size 432x288 with 1 Axes>"
      ]
     },
     "metadata": {
      "needs_background": "light"
     },
     "output_type": "display_data"
    }
   ],
   "source": [
    "peptide_dists = get_distances(peptide_struct)\n",
    "plt.hist(peptide_dists)"
   ]
  },
  {
   "cell_type": "code",
   "execution_count": 60,
   "metadata": {},
   "outputs": [],
   "source": [
    "import numpy as np\n",
    "\n",
    "peptide_avg = sum(peptide_dists)/len(peptide_dists)\n",
    "norm_peptide_dists = np.array(peptide_dists) / peptide_avg"
   ]
  },
  {
   "cell_type": "code",
   "execution_count": 61,
   "metadata": {},
   "outputs": [],
   "source": [
    "TCR_avg = sum(TCR_dists)/len(TCR_dists)\n",
    "norm_TCR_dists = np.array(TCR_dists)/(TCR_avg)"
   ]
  },
  {
   "cell_type": "markdown",
   "metadata": {},
   "source": [
    "Normalise i.e. place the mean value at 1."
   ]
  },
  {
   "cell_type": "code",
   "execution_count": 55,
   "metadata": {},
   "outputs": [
    {
     "data": {
      "text/plain": [
       "(array([12.,  0.,  0.,  0.,  0.,  0.,  6., 34., 50., 42.]),\n",
       " array([0.        , 0.12319392, 0.24638783, 0.36958175, 0.49277567,\n",
       "        0.61596958, 0.7391635 , 0.86235741, 0.98555133, 1.10874525,\n",
       "        1.23193916]),\n",
       " <BarContainer object of 10 artists>)"
      ]
     },
     "execution_count": 55,
     "metadata": {},
     "output_type": "execute_result"
    },
    {
     "data": {
      "image/png": "[encoded data removed]",
      "text/plain": [
       "<Figure size 432x288 with 1 Axes>"
      ]
     },
     "metadata": {
      "needs_background": "light"
     },
     "output_type": "display_data"
    }
   ],
   "source": [
    "plt.hist(norm_peptide_dists)"
   ]
  },
  {
   "cell_type": "code",
   "execution_count": 56,
   "metadata": {},
   "outputs": [
    {
     "data": {
      "text/plain": [
       "(array([ 21.,   2.,   6.,   8.,  12.,  98.,  92., 114.,  46.,  42.]),\n",
       " array([0.      , 0.153125, 0.30625 , 0.459375, 0.6125  , 0.765625,\n",
       "        0.91875 , 1.071875, 1.225   , 1.378125, 1.53125 ]),\n",
       " <BarContainer object of 10 artists>)"
      ]
     },
     "execution_count": 56,
     "metadata": {},
     "output_type": "execute_result"
    },
    {
     "data": {
      "image/png": "[encoded data removed]",
      "text/plain": [
       "<Figure size 432x288 with 1 Axes>"
      ]
     },
     "metadata": {
      "needs_background": "light"
     },
     "output_type": "display_data"
    }
   ],
   "source": [
    "plt.hist(norm_TCR_dists)"
   ]
  },
  {
   "cell_type": "code",
   "execution_count": 22,
   "metadata": {},
   "outputs": [],
   "source": [
    "more_TCRs = read_phenotypes(\"config/TCRs_from_TULIP.txt\")\n",
    "more_peptides = read_phenotypes(\"config/peptides_from_TULIP.txt\")"
   ]
  },
  {
   "cell_type": "code",
   "execution_count": 25,
   "metadata": {},
   "outputs": [],
   "source": [
    "more_TCRs_dists = get_distances_from_sequences(more_TCRs)"
   ]
  },
  {
   "cell_type": "code",
   "execution_count": 23,
   "metadata": {},
   "outputs": [
    {
     "data": {
      "text/plain": [
       "(array([  1182.,   5382.,  11874.,  78014.,  83748., 209358., 119610.,\n",
       "         19876.,   9084.,    628.]),\n",
       " array([ 0. ,  1.6,  3.2,  4.8,  6.4,  8. ,  9.6, 11.2, 12.8, 14.4, 16. ]),\n",
       " <BarContainer object of 10 artists>)"
      ]
     },
     "execution_count": 23,
     "metadata": {},
     "output_type": "execute_result"
    },
    {
     "data": {
      "image/png": "[encoded data removed]",
      "text/plain": [
       "<Figure size 432x288 with 1 Axes>"
      ]
     },
     "metadata": {
      "needs_background": "light"
     },
     "output_type": "display_data"
    }
   ],
   "source": [
    "plt.hist(more_TCRs_dists)"
   ]
  },
  {
   "cell_type": "code",
   "execution_count": 24,
   "metadata": {},
   "outputs": [
    {
     "data": {
      "text/plain": [
       "(array([1.480e+02, 4.000e+00, 1.600e+01, 4.000e+00, 3.000e+01, 2.100e+02,\n",
       "        1.336e+03, 5.176e+03, 8.852e+03, 6.128e+03]),\n",
       " array([ 0.,  1.,  2.,  3.,  4.,  5.,  6.,  7.,  8.,  9., 10.]),\n",
       " <BarContainer object of 10 artists>)"
      ]
     },
     "execution_count": 24,
     "metadata": {},
     "output_type": "execute_result"
    },
    {
     "data": {
      "image/png": "[encoded data removed]",
      "text/plain": [
       "<Figure size 432x288 with 1 Axes>"
      ]
     },
     "metadata": {
      "needs_background": "light"
     },
     "output_type": "display_data"
    }
   ],
   "source": [
    "plt.hist(get_distances_from_sequences(more_peptides))"
   ]
  },
  {
   "cell_type": "markdown",
   "metadata": {},
   "source": [
    "Now let's look at the scaling for different parameters"
   ]
  },
  {
   "cell_type": "code",
   "execution_count": 27,
   "metadata": {},
   "outputs": [],
   "source": [
    "def get_scalings(struct : SequencePhenotypeStructure, rho, rho_tilde):\n",
    "    dists = []\n",
    "    d = SequencePhenotypeInteractionData(0, rho_tilde)\n",
    "    for id in struct.ids:\n",
    "        phen = Phenotype(struct, id)\n",
    "        for id_ in struct.ids:\n",
    "            phen_ = Phenotype(struct, id_)\n",
    "            cur_dist = SequencePhenotypeStructure.get_sequence_scaling(phen, phen_, 0 ,d, rho)\n",
    "            dists.append(cur_dist)\n",
    "    return dists\n"
   ]
  },
  {
   "cell_type": "code",
   "execution_count": 46,
   "metadata": {},
   "outputs": [
    {
     "data": {
      "text/plain": [
       "(array([ 88., 206.,  98.,  12.,   8.,   6.,   0.,   2.,   0.,  21.]),\n",
       " array([0.41666667, 0.475     , 0.53333333, 0.59166667, 0.65      ,\n",
       "        0.70833333, 0.76666667, 0.825     , 0.88333333, 0.94166667,\n",
       "        1.        ]),\n",
       " <BarContainer object of 10 artists>)"
      ]
     },
     "execution_count": 46,
     "metadata": {},
     "output_type": "execute_result"
    },
    {
     "data": {
      "image/png": "[encoded data removed]",
      "text/plain": [
       "<Figure size 432x288 with 1 Axes>"
      ]
     },
     "metadata": {
      "needs_background": "light"
     },
     "output_type": "display_data"
    }
   ],
   "source": [
    "TCR_scalings = get_scalings(TCR_struct, rho=0.1, rho_tilde=1)\n",
    "plt.hist(TCR_scalings)"
   ]
  },
  {
   "cell_type": "code",
   "execution_count": 43,
   "metadata": {},
   "outputs": [
    {
     "data": {
      "text/plain": [
       "(array([126.,   6.,   0.,   0.,   0.,   0.,   0.,   0.,   0.,  12.]),\n",
       " array([0.27027027, 0.34324324, 0.41621622, 0.48918919, 0.56216216,\n",
       "        0.63513514, 0.70810811, 0.78108108, 0.85405405, 0.92702703,\n",
       "        1.        ]),\n",
       " <BarContainer object of 10 artists>)"
      ]
     },
     "execution_count": 43,
     "metadata": {},
     "output_type": "execute_result"
    },
    {
     "data": {
      "image/png": "[encoded data removed]",
      "text/plain": [
       "<Figure size 432x288 with 1 Axes>"
      ]
     },
     "metadata": {
      "needs_background": "light"
     },
     "output_type": "display_data"
    }
   ],
   "source": [
    "peptide_scalings = get_scalings(peptide_struct, rho=0.3, rho_tilde=1)\n",
    "plt.hist(peptide_scalings)"
   ]
  },
  {
   "cell_type": "markdown",
   "metadata": {},
   "source": [
    "Can we normalise these?"
   ]
  },
  {
   "cell_type": "code",
   "execution_count": 67,
   "metadata": {},
   "outputs": [
    {
     "data": {
      "text/plain": [
       "(array([ 88., 206.,  98.,  12.,   8.,   6.,   0.,   2.,   0.,  21.]),\n",
       " array([0.41666667, 0.475     , 0.53333333, 0.59166667, 0.65      ,\n",
       "        0.70833333, 0.76666667, 0.825     , 0.88333333, 0.94166667,\n",
       "        1.        ]),\n",
       " <BarContainer object of 10 artists>)"
      ]
     },
     "execution_count": 67,
     "metadata": {},
     "output_type": "execute_result"
    },
    {
     "data": {
      "image/png": "[encoded data removed]",
      "text/plain": [
       "<Figure size 432x288 with 1 Axes>"
      ]
     },
     "metadata": {
      "needs_background": "light"
     },
     "output_type": "display_data"
    }
   ],
   "source": [
    "rho = 0.1 / TCR_avg\n",
    "\n",
    "TCR_scalings = get_scalings(TCR_struct, rho=0.1, rho_tilde=1)\n",
    "plt.hist(TCR_scalings)"
   ]
  },
  {
   "cell_type": "code",
   "execution_count": 68,
   "metadata": {},
   "outputs": [
    {
     "data": {
      "text/plain": [
       "(array([42., 50., 34.,  6.,  0.,  0.,  0.,  0.,  0., 12.]),\n",
       " array([0.89031821, 0.90128639, 0.91225457, 0.92322275, 0.93419093,\n",
       "        0.94515911, 0.95612729, 0.96709546, 0.97806364, 0.98903182,\n",
       "        1.        ]),\n",
       " <BarContainer object of 10 artists>)"
      ]
     },
     "execution_count": 68,
     "metadata": {},
     "output_type": "execute_result"
    },
    {
     "data": {
      "image/png": "[encoded data removed]",
      "text/plain": [
       "<Figure size 432x288 with 1 Axes>"
      ]
     },
     "metadata": {
      "needs_background": "light"
     },
     "output_type": "display_data"
    }
   ],
   "source": [
    "rho = 0.1 / peptide_avg\n",
    "peptide_scalings = get_scalings(peptide_struct, rho=rho, rho_tilde=1)\n",
    "plt.hist(peptide_scalings)"
   ]
  },
  {
   "cell_type": "markdown",
   "metadata": {},
   "source": [
    "#### Can we normalise attempt 2"
   ]
  },
  {
   "cell_type": "code",
   "execution_count": 69,
   "metadata": {},
   "outputs": [
    {
     "data": {
      "text/plain": [
       "(array([ 88., 206.,  98.,  12.,   8.,   6.,   0.,   2.,   0.,  21.]),\n",
       " array([0.41666667, 0.475     , 0.53333333, 0.59166667, 0.65      ,\n",
       "        0.70833333, 0.76666667, 0.825     , 0.88333333, 0.94166667,\n",
       "        1.        ]),\n",
       " <BarContainer object of 10 artists>)"
      ]
     },
     "execution_count": 69,
     "metadata": {},
     "output_type": "execute_result"
    },
    {
     "data": {
      "image/png": "[encoded data removed]",
      "text/plain": [
       "<Figure size 432x288 with 1 Axes>"
      ]
     },
     "metadata": {
      "needs_background": "light"
     },
     "output_type": "display_data"
    }
   ],
   "source": [
    "rho = 0.1 / max(TCR_dists)\n",
    "\n",
    "TCR_scalings = get_scalings(TCR_struct, rho=0.1, rho_tilde=1)\n",
    "plt.hist(TCR_scalings)"
   ]
  },
  {
   "cell_type": "code",
   "execution_count": 70,
   "metadata": {},
   "outputs": [
    {
     "data": {
      "text/plain": [
       "(array([42., 50., 34.,  6.,  0.,  0.,  0.,  0.,  0., 12.]),\n",
       " array([0.90909091, 0.91818182, 0.92727273, 0.93636364, 0.94545455,\n",
       "        0.95454545, 0.96363636, 0.97272727, 0.98181818, 0.99090909,\n",
       "        1.        ]),\n",
       " <BarContainer object of 10 artists>)"
      ]
     },
     "execution_count": 70,
     "metadata": {},
     "output_type": "execute_result"
    },
    {
     "data": {
      "image/png": "[encoded data removed]",
      "text/plain": [
       "<Figure size 432x288 with 1 Axes>"
      ]
     },
     "metadata": {
      "needs_background": "light"
     },
     "output_type": "display_data"
    }
   ],
   "source": [
    "rho = 0.1 / max(peptide_dists)\n",
    "peptide_scalings = get_scalings(peptide_struct, rho=rho, rho_tilde=1)\n",
    "plt.hist(peptide_scalings)"
   ]
  }
 ],
 "metadata": {
  "kernelspec": {
   "display_name": "Python 3",
   "language": "python",
   "name": "python3"
  },
  "language_info": {
   "codemirror_mode": {
    "name": "ipython",
    "version": 3
   },
   "file_extension": ".py",
   "mimetype": "text/x-python",
   "name": "python",
   "nbconvert_exporter": "python",
   "pygments_lexer": "ipython3",
   "version": "3.10.2"
  }
 },
 "nbformat": 4,
 "nbformat_minor": 2
}

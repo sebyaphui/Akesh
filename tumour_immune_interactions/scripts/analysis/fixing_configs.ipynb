{
 "cells": [
  {
   "cell_type": "code",
   "execution_count": 22,
   "metadata": {},
   "outputs": [],
   "source": [
    "import pandas as pd\n",
    "\n",
    "confs = pd.read_csv(\"../sim/config/configurations.csv\")"
   ]
  },
  {
   "cell_type": "code",
   "execution_count": 21,
   "metadata": {},
   "outputs": [],
   "source": [
    "def add_txt(txt):\n",
    "    if txt is not None:\n",
    "        txt = \"config/txt\" + txt[txt.find(\"config\") + len(\"config\"):len(txt)]\n",
    "    return txt"
   ]
  },
  {
   "cell_type": "code",
   "execution_count": 30,
   "metadata": {},
   "outputs": [],
   "source": [
    "def add_json(txt):\n",
    "    if txt is not None:\n",
    "        txt = \"config/json\" + txt[txt.find(\"config\") + len(\"config\"):len(txt)]\n",
    "    return txt"
   ]
  },
  {
   "cell_type": "code",
   "execution_count": 23,
   "metadata": {},
   "outputs": [],
   "source": [
    "new_confs = confs[\"CTL_sequence_path\"].dropna().apply(add_txt)\n",
    "confs[\"CTL_sequence_path\"] = new_confs"
   ]
  },
  {
   "cell_type": "code",
   "execution_count": 28,
   "metadata": {},
   "outputs": [],
   "source": [
    "new_confs = confs[\"tumour_sequence_path\"].dropna().apply(add_txt)\n",
    "confs[\"tumour_sequence_path\"] = new_confs"
   ]
  },
  {
   "cell_type": "code",
   "execution_count": 33,
   "metadata": {},
   "outputs": [],
   "source": [
    "new_confs = confs[\"affinity_matrix_config\"].dropna().apply(add_json)\n",
    "confs[\"affinity_matrix_config\"] = new_confs"
   ]
  },
  {
   "cell_type": "code",
   "execution_count": 34,
   "metadata": {},
   "outputs": [],
   "source": [
    "new_confs = confs[\"sequence_matrix_config\"].dropna().apply(add_json)\n",
    "confs[\"sequence_matrix_config\"] = new_confs"
   ]
  },
  {
   "cell_type": "code",
   "execution_count": 35,
   "metadata": {},
   "outputs": [],
   "source": [
    "confs.to_csv(\"configurations.csv\",index=False)"
   ]
  }
 ],
 "metadata": {
  "kernelspec": {
   "display_name": "Python 3",
   "language": "python",
   "name": "python3"
  },
  "language_info": {
   "codemirror_mode": {
    "name": "ipython",
    "version": 3
   },
   "file_extension": ".py",
   "mimetype": "text/x-python",
   "name": "python",
   "nbconvert_exporter": "python",
   "pygments_lexer": "ipython3",
   "version": "3.10.2"
  }
 },
 "nbformat": 4,
 "nbformat_minor": 2
}

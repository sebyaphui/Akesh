{
 "cells": [
  {
   "cell_type": "code",
   "execution_count": 5,
   "metadata": {},
   "outputs": [],
   "source": [
    "from sim.run import run\n",
    "from sim.graphing import get_sim\n"
   ]
  },
  {
   "cell_type": "code",
   "execution_count": 6,
   "metadata": {},
   "outputs": [
    {
     "name": "stdout",
     "output_type": "stream",
     "text": [
      "Successfully opened the previous simulation.\n"
     ]
    },
    {
     "data": {
      "text/plain": [
       "'FastSequenceRandom'"
      ]
     },
     "execution_count": 6,
     "metadata": {},
     "output_type": "execute_result"
    }
   ],
   "source": [
    "sim = get_sim(\"../sim_data/sim.pickle\")\n",
    "sim.config_name"
   ]
  },
  {
   "cell_type": "code",
   "execution_count": 2,
   "metadata": {},
   "outputs": [
    {
     "name": "stdout",
     "output_type": "stream",
     "text": [
      "Successfully opened the previous simulation.\n",
      "The simulation is starting.\n",
      "C:  1268802  | T: 37510\n",
      "Iteration done after 0.26900243759155273.\n",
      "Time step:  68 / 600\n",
      "C:  1357149  | T: 40884\n",
      "Iteration done after 0.5400040149688721.\n",
      "Time step:  69 / 600\n",
      "C:  1450865  | T: 44928\n",
      "Iteration done after 0.877000093460083.\n",
      "Time step:  70 / 600\n",
      "C:  1549969  | T: 49529\n",
      "Iteration done after 1.1710000038146973.\n",
      "Time step:  71 / 600\n",
      "C:  1655564  | T: 54998\n",
      "Iteration done after 1.482999563217163.\n",
      "Time step:  72 / 600\n",
      "C:  1767454  | T: 61587\n",
      "Iteration done after 1.8150031566619873.\n",
      "Time step:  73 / 600\n",
      "C:  1885880  | T: 69279\n",
      "Iteration done after 2.1849966049194336.\n",
      "Time step:  74 / 600\n",
      "C:  2011547  | T: 78601\n",
      "Iteration done after 2.582003116607666.\n",
      "Time step:  75 / 600\n",
      "C:  2144387  | T: 89848\n",
      "Iteration done after 3.1279983520507812.\n",
      "Time step:  76 / 600\n",
      "C:  2283903  | T: 103734\n",
      "Iteration done after 3.6749985218048096.\n",
      "Time step:  77 / 600\n",
      "C:  2431567  | T: 120429\n",
      "Iteration done after 4.418999195098877.\n",
      "Time step:  78 / 600\n",
      "C:  2586370  | T: 141468\n",
      "Iteration done after 4.928001880645752.\n",
      "Time step:  79 / 600\n",
      "C:  2748865  | T: 167513\n",
      "Iteration done after 5.442997932434082.\n",
      "Time step:  80 / 600\n",
      "C:  2918785  | T: 200137\n",
      "Iteration done after 6.085019826889038.\n",
      "Time step:  81 / 600\n",
      "C:  3097014  | T: 241774\n",
      "Iteration done after 6.834000825881958.\n",
      "Time step:  82 / 600\n",
      "C:  3281756  | T: 295575\n",
      "Iteration done after 7.727001428604126.\n",
      "Time step:  83 / 600\n",
      "C:  3472490  | T: 364508\n",
      "Iteration done after 8.539003133773804.\n",
      "Time step:  84 / 600\n",
      "C:  3669500  | T: 454788\n",
      "Iteration done after 9.333996534347534.\n",
      "Time step:  85 / 600\n",
      "C:  3870217  | T: 573106\n",
      "Iteration done after 10.727001428604126.\n",
      "Time step:  86 / 600\n",
      "C:  4074557  | T: 728884\n",
      "Iteration done after 12.193998575210571.\n",
      "Time step:  87 / 600\n",
      "C:  4277407  | T: 936262\n",
      "Iteration done after 13.289999723434448.\n",
      "Time step:  88 / 600\n",
      "C:  4476452  | T: 1214165\n",
      "Iteration done after 15.464001893997192.\n",
      "Time step:  89 / 600\n",
      "The simulation has been interrupted and will now safely save.\n",
      "Pickling....\n",
      "Pickling done.\n"
     ]
    }
   ],
   "source": [
    "run()"
   ]
  }
 ],
 "metadata": {
  "kernelspec": {
   "display_name": "Python 3",
   "language": "python",
   "name": "python3"
  },
  "language_info": {
   "codemirror_mode": {
    "name": "ipython",
    "version": 3
   },
   "file_extension": ".py",
   "mimetype": "text/x-python",
   "name": "python",
   "nbconvert_exporter": "python",
   "pygments_lexer": "ipython3",
   "version": "3.10.2"
  }
 },
 "nbformat": 4,
 "nbformat_minor": 2
}

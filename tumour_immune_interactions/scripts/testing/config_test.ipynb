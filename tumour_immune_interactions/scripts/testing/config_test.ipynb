{
 "cells": [
  {
   "cell_type": "code",
   "execution_count": 1,
   "metadata": {},
   "outputs": [],
   "source": [
    "def hello():\n",
    "    print(\"hello\")"
   ]
  },
  {
   "cell_type": "code",
   "execution_count": 2,
   "metadata": {},
   "outputs": [
    {
     "name": "stdout",
     "output_type": "stream",
     "text": [
      "hello\n"
     ]
    }
   ],
   "source": [
    "import json\n",
    "from inputs import get_file_dir\n",
    "import numpy as np\n",
    "from discrete_model import Simulation\n",
    "import importlib\n",
    "\n",
    "matrix_config = \"/config/func_test_config.json\"\n",
    "\n",
    "def get_matrix_function_from_config(matrix_config_path):\n",
    "\n",
    "    with open(get_file_dir() + matrix_config_path) as file:\n",
    "        config = json.load(file)\n",
    "\n",
    "    if config[\"from\"] == \"path\":\n",
    "        if \"delimiter\" not in config.keys() or config[\"delimiter\"] == \"\":\n",
    "            config[\"delimiter\"] = \" \"\n",
    "\n",
    "        matrix = np.loadtxt(config[\"path\"], delimiter=config[\"delimiter\"])\n",
    "\n",
    "        def get_matrix(sim : Simulation):\n",
    "            return matrix\n",
    "        \n",
    "        # return get_matrix\n",
    "\n",
    "    if config[\"from\"] == \"function\":\n",
    "        if \"where\" not in config.keys() or config[\"where\"] == \"\":\n",
    "            try:\n",
    "                get_matrix = globals()[config[\"function\"]]\n",
    "            except KeyError:\n",
    "                raise KeyError(\"The specified function does not exist in the global scope here.\")\n",
    "        else:\n",
    "            try:\n",
    "                module = importlib.import_module(config[\"where\"]) # Supports relative imports\n",
    "            except ModuleNotFoundError:\n",
    "                raise ModuleNotFoundError(\"The specified module containing the matrix function does not exist.\")\n",
    "            get_matrix = getattr(module, config[\"function\"])\n",
    "        \n",
    "        return get_matrix\n",
    "\n",
    "get_matrix_function_from_config(matrix_config)(\"\")\n"
   ]
  }
 ],
 "metadata": {
  "kernelspec": {
   "display_name": "Python 3",
   "language": "python",
   "name": "python3"
  },
  "language_info": {
   "codemirror_mode": {
    "name": "ipython",
    "version": 3
   },
   "file_extension": ".py",
   "mimetype": "text/x-python",
   "name": "python",
   "nbconvert_exporter": "python",
   "pygments_lexer": "ipython3",
   "version": "3.10.0"
  }
 },
 "nbformat": 4,
 "nbformat_minor": 2
}

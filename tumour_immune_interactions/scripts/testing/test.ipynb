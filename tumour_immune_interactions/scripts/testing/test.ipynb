{
 "cells": [
  {
   "cell_type": "code",
   "execution_count": 2,
   "metadata": {},
   "outputs": [
    {
     "name": "stdout",
     "output_type": "stream",
     "text": [
      "GILGFVFTL\n",
      "\n"
     ]
    }
   ],
   "source": [
    "with open(\"peptides_from_TULIP.txt\", \"r\") as file:\n",
    "    print(file.readline())"
   ]
  },
  {
   "cell_type": "code",
   "execution_count": 2,
   "metadata": {},
   "outputs": [
    {
     "data": {
      "text/plain": [
       "array([['hi', 'bye'],\n",
       "       ['lie', 'fly']], dtype='<U3')"
      ]
     },
     "execution_count": 2,
     "metadata": {},
     "output_type": "execute_result"
    }
   ],
   "source": [
    "import numpy as np\n",
    "\n",
    "things = {\"hi\": \"bye\", \"lie\": \"fly\"}\n",
    "\n",
    "things_arr = np.array(list(things.items()))\n",
    "things_arr"
   ]
  },
  {
   "cell_type": "code",
   "execution_count": 40,
   "metadata": {},
   "outputs": [
    {
     "name": "stdout",
     "output_type": "stream",
     "text": [
      "[[[1 1]\n",
      "  [1 2]]\n",
      "\n",
      " [[2 1]\n",
      "  [2 2]]]\n",
      "[1 1]\n",
      "[1 2]\n",
      "[2 1]\n",
      "[2 2]\n",
      "[[(1, 1) (1, 2)]\n",
      " [(2, 1) (2, 2)]]\n",
      "[[[1 1]\n",
      "  [1 2]]\n",
      "\n",
      " [[2 1]\n",
      "  [2 2]]]\n"
     ]
    },
    {
     "data": {
      "text/plain": [
       "array([[2, 3],\n",
       "       [3, 4]])"
      ]
     },
     "execution_count": 40,
     "metadata": {},
     "output_type": "execute_result"
    }
   ],
   "source": [
    "from dataclasses import dataclass\n",
    "\n",
    "\n",
    "x, y = np.meshgrid((1, 2), (1, 2))\n",
    "C = np.array(np.transpose((x, y), (2, 1, 0)), dtype=object)\n",
    "C\n",
    "print(C)\n",
    "\n",
    "@dataclass\n",
    "class A:\n",
    "    b : tuple\n",
    "\n",
    "D = np.array(np.ones((2,2)), dtype=object)\n",
    "\n",
    "for idx, row in enumerate(C):\n",
    "    for idy, pair in enumerate(row):\n",
    "        print(C[idx][idy])\n",
    "        D[idx][idy] = tuple(C[idx][idy])\n",
    "print(D)    \n",
    "\n",
    "print(C)\n",
    "\n",
    "def sumA(a : tuple):\n",
    "    return sum(a)\n",
    "\n",
    "vec_sumA = np.vectorize(sumA)\n",
    "\n",
    "vec_sumA(D)"
   ]
  },
  {
   "cell_type": "code",
   "execution_count": 1,
   "metadata": {},
   "outputs": [
    {
     "data": {
      "text/plain": [
       "array([[1.],\n",
       "       [1.]])"
      ]
     },
     "execution_count": 1,
     "metadata": {},
     "output_type": "execute_result"
    }
   ],
   "source": [
    "from sim.discrete_model import get_ones_matrix\n",
    "\n",
    "a = get_ones_matrix(2,1)\n",
    "a"
   ]
  },
  {
   "cell_type": "code",
   "execution_count": 5,
   "metadata": {},
   "outputs": [
    {
     "data": {
      "text/plain": [
       "array([[1., 1.],\n",
       "       [1., 1.],\n",
       "       [1., 1.],\n",
       "       [1., 1.],\n",
       "       [1., 1.]])"
      ]
     },
     "execution_count": 5,
     "metadata": {},
     "output_type": "execute_result"
    }
   ],
   "source": [
    "import numpy as np\n",
    "np.ones((5,2))"
   ]
  }
 ],
 "metadata": {
  "kernelspec": {
   "display_name": "Python 3",
   "language": "python",
   "name": "python3"
  },
  "language_info": {
   "codemirror_mode": {
    "name": "ipython",
    "version": 3
   },
   "file_extension": ".py",
   "mimetype": "text/x-python",
   "name": "python",
   "nbconvert_exporter": "python",
   "pygments_lexer": "ipython3",
   "version": "3.10.2"
  }
 },
 "nbformat": 4,
 "nbformat_minor": 2
}
